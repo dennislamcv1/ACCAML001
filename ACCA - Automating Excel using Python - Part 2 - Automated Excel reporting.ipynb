{
 "cells": [
  {
   "cell_type": "markdown",
   "metadata": {},
   "source": [
    "<img src=\"https://courses.edx.org/asset-v1:ACCA+ML001+2T2021+type@asset+block@acca-logo.jpg\" alt=\"ACCA logo\" style=\"width: 400px;\"/>\n",
    "\n",
    "# Automating Excel using Python\n",
    "## Part 2 - Automated Excel reporting\n",
    "\n",
    "* **Course:** __Machine learning with Python for finance professionals__ by ACCA\n",
    "* **Instructor:** [Coefficient](https://coefficient.ai) / [@CoefficientData](https://twitter.com/CoefficientData)\n",
    "\n",
    "---"
   ]
  },
  {
   "cell_type": "code",
   "execution_count": 1,
   "metadata": {
    "scrolled": true
   },
   "outputs": [],
   "source": [
    "import pandas as pd\n",
    "import xlwings as xw"
   ]
  },
  {
   "cell_type": "markdown",
   "metadata": {},
   "source": [
    "# \n",
    "\n",
    "<div class=\"alert alert-block alert-info\" style=\"background-color: #BA001E; border: 0px; -moz-border-radius: 10px; -webkit-border-radius: 10px;\">\n",
    "<h2 style=\"color: white\">\n",
    "Manipulating Excel workbooks from Python\n",
    "</h2><br>\n",
    "</div>"
   ]
  },
  {
   "cell_type": "markdown",
   "metadata": {},
   "source": [
    "<div class=\"alert alert-block alert-danger\">\n",
    "On some operating systems, running the command below may open a window asking something like <b>Please select the file \"Business Card.xlsx\"</b>.<br/><br/>\n",
    "\n",
    "Select the file \"<b>Business Card.xlsx</b>\" and confirm that you would like to <b>Grant Access</b> to this file.\n",
    "</div>"
   ]
  },
  {
   "cell_type": "code",
   "execution_count": 2,
   "metadata": {},
   "outputs": [],
   "source": [
    "# Create/connect to a workbook\n",
    "wb = xw.Book('Business Card.xlsx')"
   ]
  },
  {
   "cell_type": "code",
   "execution_count": 3,
   "metadata": {},
   "outputs": [],
   "source": [
    "# Create/connect to a sheet\n",
    "sheet = wb.sheets['Sheet1']"
   ]
  },
  {
   "cell_type": "code",
   "execution_count": 4,
   "metadata": {},
   "outputs": [],
   "source": [
    "# Write a value into a cell\n",
    "sheet.range('A1').value = 'Hello World!'"
   ]
  },
  {
   "cell_type": "markdown",
   "metadata": {},
   "source": [
    "---\n",
    "\n",
    "> ### 🚩 Exercise\n",
    "> \n",
    "> Try setting the value of cell B3 (the cell containing the larger text) to your own name."
   ]
  },
  {
   "cell_type": "code",
   "execution_count": 5,
   "metadata": {},
   "outputs": [],
   "source": [
    "# ✏️ ENTER YOUR SOLUTION HERE\n",
    "\n",
    "\n",
    "sheet.range('B3').value = 'Cheshire Cat'"
   ]
  },
  {
   "cell_type": "markdown",
   "metadata": {},
   "source": [
    "---"
   ]
  },
  {
   "cell_type": "code",
   "execution_count": 6,
   "metadata": {},
   "outputs": [
    {
     "data": {
      "text/plain": [
       "'Hello World!'"
      ]
     },
     "execution_count": 6,
     "metadata": {},
     "output_type": "execute_result"
    }
   ],
   "source": [
    "# Read a value from a cell\n",
    "sheet.range('A1').value"
   ]
  },
  {
   "cell_type": "code",
   "execution_count": 7,
   "metadata": {},
   "outputs": [
    {
     "data": {
      "text/plain": [
       "'Hello World!'"
      ]
     },
     "execution_count": 7,
     "metadata": {},
     "output_type": "execute_result"
    }
   ],
   "source": [
    "# Or using index notation (1-based like Excel)\n",
    "sheet.range((1,1)).value"
   ]
  },
  {
   "cell_type": "markdown",
   "metadata": {},
   "source": [
    "### Writing a DataFrame from pandas into Excel"
   ]
  },
  {
   "cell_type": "code",
   "execution_count": 8,
   "metadata": {},
   "outputs": [
    {
     "data": {
      "text/plain": [
       "[['cat', 4], ['octopus', 8], ['snail', 1]]"
      ]
     },
     "execution_count": 8,
     "metadata": {},
     "output_type": "execute_result"
    }
   ],
   "source": [
    "# We will create this list of lists, ready to turn into a dataframe\n",
    "[[\"cat\", 4], [\"octopus\", 8], [\"snail\", 1],]"
   ]
  },
  {
   "cell_type": "code",
   "execution_count": 9,
   "metadata": {},
   "outputs": [
    {
     "data": {
      "text/html": [
       "<div>\n",
       "<style scoped>\n",
       "    .dataframe tbody tr th:only-of-type {\n",
       "        vertical-align: middle;\n",
       "    }\n",
       "\n",
       "    .dataframe tbody tr th {\n",
       "        vertical-align: top;\n",
       "    }\n",
       "\n",
       "    .dataframe thead th {\n",
       "        text-align: right;\n",
       "    }\n",
       "</style>\n",
       "<table border=\"1\" class=\"dataframe\">\n",
       "  <thead>\n",
       "    <tr style=\"text-align: right;\">\n",
       "      <th></th>\n",
       "      <th>animal</th>\n",
       "      <th>legs</th>\n",
       "    </tr>\n",
       "  </thead>\n",
       "  <tbody>\n",
       "    <tr>\n",
       "      <th>0</th>\n",
       "      <td>cat</td>\n",
       "      <td>4</td>\n",
       "    </tr>\n",
       "    <tr>\n",
       "      <th>1</th>\n",
       "      <td>octopus</td>\n",
       "      <td>8</td>\n",
       "    </tr>\n",
       "    <tr>\n",
       "      <th>2</th>\n",
       "      <td>snail</td>\n",
       "      <td>1</td>\n",
       "    </tr>\n",
       "  </tbody>\n",
       "</table>\n",
       "</div>"
      ],
      "text/plain": [
       "    animal  legs\n",
       "0      cat     4\n",
       "1  octopus     8\n",
       "2    snail     1"
      ]
     },
     "execution_count": 9,
     "metadata": {},
     "output_type": "execute_result"
    }
   ],
   "source": [
    "# Let's write a dataframe into a location; first create the dataframe\n",
    "df = pd.DataFrame(\n",
    "    [[\"cat\", 4],\n",
    "     [\"octopus\", 8],\n",
    "     [\"snail\", 1],\n",
    "    ],\n",
    "    columns=['animal', 'legs'])\n",
    "df"
   ]
  },
  {
   "cell_type": "code",
   "execution_count": 10,
   "metadata": {},
   "outputs": [],
   "source": [
    "# Write into cell E3\n",
    "sheet.range('E3').value = df"
   ]
  },
  {
   "cell_type": "markdown",
   "metadata": {},
   "source": [
    "### Reading a table from Excel into pandas"
   ]
  },
  {
   "cell_type": "markdown",
   "metadata": {},
   "source": [
    "What happens if we read from E3?"
   ]
  },
  {
   "cell_type": "code",
   "execution_count": 11,
   "metadata": {},
   "outputs": [],
   "source": [
    "sheet.range('E3').value"
   ]
  },
  {
   "cell_type": "markdown",
   "metadata": {},
   "source": [
    "Nothing, we need to \"range expand\", i.e. starting at E3, select down until there's no more data, and select rightwards until there's no more data. This selects \"the table with top-left corner at E3\"."
   ]
  },
  {
   "cell_type": "code",
   "execution_count": 12,
   "metadata": {},
   "outputs": [
    {
     "data": {
      "text/plain": [
       "[[None, 'animal', 'legs'],\n",
       " [0.0, 'cat', 4.0],\n",
       " [1.0, 'octopus', 8.0],\n",
       " [2.0, 'snail', 1.0]]"
      ]
     },
     "execution_count": 12,
     "metadata": {},
     "output_type": "execute_result"
    }
   ],
   "source": [
    "# Range expand from E3\n",
    "sheet.range('E3').options(expand='table').value"
   ]
  },
  {
   "cell_type": "markdown",
   "metadata": {},
   "source": [
    "We can do better: xlwings can auto-convert this to a pandas DataFrame, just supply `pd.DataFrame` as the first option."
   ]
  },
  {
   "cell_type": "code",
   "execution_count": 13,
   "metadata": {},
   "outputs": [
    {
     "data": {
      "text/html": [
       "<div>\n",
       "<style scoped>\n",
       "    .dataframe tbody tr th:only-of-type {\n",
       "        vertical-align: middle;\n",
       "    }\n",
       "\n",
       "    .dataframe tbody tr th {\n",
       "        vertical-align: top;\n",
       "    }\n",
       "\n",
       "    .dataframe thead th {\n",
       "        text-align: right;\n",
       "    }\n",
       "</style>\n",
       "<table border=\"1\" class=\"dataframe\">\n",
       "  <thead>\n",
       "    <tr style=\"text-align: right;\">\n",
       "      <th></th>\n",
       "      <th>animal</th>\n",
       "      <th>legs</th>\n",
       "    </tr>\n",
       "  </thead>\n",
       "  <tbody>\n",
       "    <tr>\n",
       "      <th>0.0</th>\n",
       "      <td>cat</td>\n",
       "      <td>4.0</td>\n",
       "    </tr>\n",
       "    <tr>\n",
       "      <th>1.0</th>\n",
       "      <td>octopus</td>\n",
       "      <td>8.0</td>\n",
       "    </tr>\n",
       "    <tr>\n",
       "      <th>2.0</th>\n",
       "      <td>snail</td>\n",
       "      <td>1.0</td>\n",
       "    </tr>\n",
       "  </tbody>\n",
       "</table>\n",
       "</div>"
      ],
      "text/plain": [
       "      animal  legs\n",
       "0.0      cat   4.0\n",
       "1.0  octopus   8.0\n",
       "2.0    snail   1.0"
      ]
     },
     "execution_count": 13,
     "metadata": {},
     "output_type": "execute_result"
    }
   ],
   "source": [
    "# Read a dataframe from E3\n",
    "sheet.range('E3').options(pd.DataFrame, expand='table').value"
   ]
  },
  {
   "cell_type": "code",
   "execution_count": 14,
   "metadata": {},
   "outputs": [
    {
     "data": {
      "text/plain": [
       "['animal', 'legs']"
      ]
     },
     "execution_count": 14,
     "metadata": {},
     "output_type": "execute_result"
    }
   ],
   "source": [
    "# Read the first row back by specifying a range\n",
    "sheet.range('F3:G3').value"
   ]
  },
  {
   "cell_type": "code",
   "execution_count": 15,
   "metadata": {},
   "outputs": [
    {
     "data": {
      "text/plain": [
       "['animal', 'legs']"
      ]
     },
     "execution_count": 15,
     "metadata": {},
     "output_type": "execute_result"
    }
   ],
   "source": [
    "# Or use index notation\n",
    "sheet.range((3,6), (3,7)).value"
   ]
  },
  {
   "cell_type": "code",
   "execution_count": 16,
   "metadata": {},
   "outputs": [],
   "source": [
    "# Let's autofit these columns\n",
    "sheet.range('E:G').autofit()"
   ]
  },
  {
   "cell_type": "markdown",
   "metadata": {},
   "source": [
    "---\n",
    "\n",
    "> ### 🚩 Exercise\n",
    "> \n",
    "> Update the \"list of lists\" in the cell below with your own details, then using the examples provided above as guidance, update cells B4:C7 in the Business Card workbook with your own details."
   ]
  },
  {
   "cell_type": "code",
   "execution_count": 17,
   "metadata": {},
   "outputs": [],
   "source": [
    "# ✏️ UPDATE THIS WITH YOUR OWN DETAILS\n",
    "\n",
    "my_details = [\n",
    "    ['Title', 'ENTER YOUR TITLE HERE'],\n",
    "    ['Company', 'ENTER YOUR COMPANY HERE'],\n",
    "    ['Website', 'ENTER YOUR WEBSITE HERE'],\n",
    "    ['OTHER DETAIL', 'ENTER YOUR OTHER DETAIL HERE'],\n",
    "]"
   ]
  },
  {
   "cell_type": "code",
   "execution_count": 18,
   "metadata": {},
   "outputs": [],
   "source": [
    "# ✏️ ENTER YOUR SOLUTION HERE\n",
    "\n",
    "sheet.range('B4:C6').value = my_details\n"
   ]
  },
  {
   "cell_type": "markdown",
   "metadata": {},
   "source": [
    "# \n",
    "\n",
    "<div class=\"alert alert-block alert-info\" style=\"background-color: #BA001E; border: 0px; -moz-border-radius: 10px; -webkit-border-radius: 10px;\">\n",
    "<h2 style=\"color: white\">\n",
    "Handling dates and times in Python\n",
    "</h2><br>\n",
    "</div>"
   ]
  },
  {
   "cell_type": "markdown",
   "metadata": {},
   "source": [
    "We will import the `datetime` module - this is one of the \"first-party\" modules that comes pre-installed as part of Python itself."
   ]
  },
  {
   "cell_type": "code",
   "execution_count": 19,
   "metadata": {},
   "outputs": [],
   "source": [
    "import datetime as dt"
   ]
  },
  {
   "cell_type": "code",
   "execution_count": 20,
   "metadata": {},
   "outputs": [
    {
     "data": {
      "text/plain": [
       "datetime.datetime(2021, 12, 25, 9, 0)"
      ]
     },
     "execution_count": 20,
     "metadata": {},
     "output_type": "execute_result"
    }
   ],
   "source": [
    "# This is a Python \"datetime\" object\n",
    "christmas = dt.datetime(2021, 12, 25, 9, 0, 0)\n",
    "christmas"
   ]
  },
  {
   "cell_type": "code",
   "execution_count": 21,
   "metadata": {},
   "outputs": [
    {
     "data": {
      "text/plain": [
       "12"
      ]
     },
     "execution_count": 21,
     "metadata": {},
     "output_type": "execute_result"
    }
   ],
   "source": [
    "# These objects are \"smart\", they know lots of information\n",
    "# about themselves.\n",
    "christmas.month"
   ]
  },
  {
   "cell_type": "code",
   "execution_count": 22,
   "metadata": {},
   "outputs": [
    {
     "data": {
      "text/plain": [
       "25"
      ]
     },
     "execution_count": 22,
     "metadata": {},
     "output_type": "execute_result"
    }
   ],
   "source": [
    "christmas.day"
   ]
  },
  {
   "cell_type": "code",
   "execution_count": 23,
   "metadata": {},
   "outputs": [
    {
     "data": {
      "text/plain": [
       "5"
      ]
     },
     "execution_count": 23,
     "metadata": {},
     "output_type": "execute_result"
    }
   ],
   "source": [
    "# 0 => Monday, 1 => Tuesday, ... , 6 => Sunday\n",
    "christmas.weekday()  # Christmas Day 2021 will be a Saturday"
   ]
  },
  {
   "cell_type": "markdown",
   "metadata": {},
   "source": [
    "When we write a Python datetime object into Excel"
   ]
  },
  {
   "cell_type": "code",
   "execution_count": 24,
   "metadata": {},
   "outputs": [],
   "source": [
    "# Write native Excel datetimes\n",
    "sheet.range('C1').value = christmas"
   ]
  },
  {
   "cell_type": "code",
   "execution_count": 25,
   "metadata": {},
   "outputs": [
    {
     "data": {
      "text/plain": [
       "datetime.datetime(2021, 12, 25, 9, 0)"
      ]
     },
     "execution_count": 25,
     "metadata": {},
     "output_type": "execute_result"
    }
   ],
   "source": [
    "# Note that xlwings converts a Native Excel datetime back\n",
    "# to a native Python datetime.\n",
    "sheet.range('C1').value"
   ]
  },
  {
   "cell_type": "code",
   "execution_count": 26,
   "metadata": {},
   "outputs": [
    {
     "data": {
      "text/plain": [
       "Timestamp('2021-12-25 00:00:00')"
      ]
     },
     "execution_count": 26,
     "metadata": {},
     "output_type": "execute_result"
    }
   ],
   "source": [
    "# pandas has a great pd.to_datetime() function\n",
    "pd.to_datetime(\"2021-12-25\")"
   ]
  },
  {
   "cell_type": "code",
   "execution_count": 27,
   "metadata": {},
   "outputs": [
    {
     "data": {
      "text/plain": [
       "Timestamp('2021-12-05 00:00:00')"
      ]
     },
     "execution_count": 27,
     "metadata": {},
     "output_type": "execute_result"
    }
   ],
   "source": [
    "# The first Sunday in December 2021 is...?\n",
    "pd.to_datetime(\"Sunday December 2021\")"
   ]
  },
  {
   "cell_type": "code",
   "execution_count": 28,
   "metadata": {},
   "outputs": [
    {
     "data": {
      "text/plain": [
       "Timestamp('2021-03-02 00:00:00')"
      ]
     },
     "execution_count": 28,
     "metadata": {},
     "output_type": "execute_result"
    }
   ],
   "source": [
    "# This is ambiguous, so it assumes the format is month/day/year.\n",
    "pd.to_datetime(\"03/02/2021\")"
   ]
  },
  {
   "cell_type": "code",
   "execution_count": 29,
   "metadata": {},
   "outputs": [
    {
     "data": {
      "text/plain": [
       "Timestamp('2021-02-23 00:00:00')"
      ]
     },
     "execution_count": 29,
     "metadata": {},
     "output_type": "execute_result"
    }
   ],
   "source": [
    "# Note how month/day/year here is impossible so it uses day/month/year.\n",
    "pd.to_datetime(\"23/02/2021\")"
   ]
  },
  {
   "cell_type": "code",
   "execution_count": 30,
   "metadata": {},
   "outputs": [
    {
     "data": {
      "text/plain": [
       "Timestamp('2021-02-03 00:00:00')"
      ]
     },
     "execution_count": 30,
     "metadata": {},
     "output_type": "execute_result"
    }
   ],
   "source": [
    "# Good practice is just to be explicit!\n",
    "pd.to_datetime(\"03/02/2021\", dayfirst=True)"
   ]
  },
  {
   "cell_type": "code",
   "execution_count": 31,
   "metadata": {},
   "outputs": [
    {
     "data": {
      "text/plain": [
       "Timestamp('2021-02-03 00:00:00')"
      ]
     },
     "execution_count": 31,
     "metadata": {},
     "output_type": "execute_result"
    }
   ],
   "source": [
    "# Format codes can also be used here, see the website\n",
    "# https://strftime.org/ for a full list of codes.\n",
    "pd.to_datetime(\"03/02/2021\", format=\"%d/%m/%Y\")"
   ]
  },
  {
   "cell_type": "markdown",
   "metadata": {},
   "source": [
    "---\n",
    "\n",
    "> ### 🚩 Exercise\n",
    "> \n",
    "> Enter your own date of birth (or any date of interest) into `pd.to_datetime()` and assign it to a variable called `birthday`.\n",
    "> \n",
    "> Executing `birthday.day_name()` should return the name of that day."
   ]
  },
  {
   "cell_type": "code",
   "execution_count": 32,
   "metadata": {},
   "outputs": [
    {
     "data": {
      "text/plain": [
       "Timestamp('1970-01-01 00:00:00.000001997')"
      ]
     },
     "execution_count": 32,
     "metadata": {},
     "output_type": "execute_result"
    }
   ],
   "source": [
    "# ✏️ ENTER YOUR SOLUTION HERE\n",
    "\n",
    "def birthday(day):\n",
    "    b = pd.to_datetime(day)\n",
    "    return b\n",
    "\n",
    "birthday(2021-6-18)\n"
   ]
  },
  {
   "cell_type": "code",
   "execution_count": 35,
   "metadata": {},
   "outputs": [],
   "source": [
    "#birthday.day_name()"
   ]
  },
  {
   "cell_type": "code",
   "execution_count": 36,
   "metadata": {},
   "outputs": [],
   "source": [
    "#sheet.range('C1').value = birthday"
   ]
  },
  {
   "cell_type": "markdown",
   "metadata": {},
   "source": [
    "# \n",
    "\n",
    "<div class=\"alert alert-block alert-info\" style=\"background-color: #BA001E; border: 0px; -moz-border-radius: 10px; -webkit-border-radius: 10px;\">\n",
    "<h2 style=\"color: white\">\n",
    "Formula and automation\n",
    "</h2><br>\n",
    "</div>"
   ]
  },
  {
   "cell_type": "code",
   "execution_count": 37,
   "metadata": {},
   "outputs": [],
   "source": [
    "# We can insert formula into our Business Card workbook\n",
    "sheet.range('G8').formula = '=SUM(G4:G6)'"
   ]
  },
  {
   "cell_type": "code",
   "execution_count": 38,
   "metadata": {},
   "outputs": [
    {
     "data": {
      "text/plain": [
       "'=SUM(G4:G6)'"
      ]
     },
     "execution_count": 38,
     "metadata": {},
     "output_type": "execute_result"
    }
   ],
   "source": [
    "# What's the formula (as a Python string)?\n",
    "sheet.range('G8').formula"
   ]
  },
  {
   "cell_type": "code",
   "execution_count": 39,
   "metadata": {},
   "outputs": [
    {
     "data": {
      "text/plain": [
       "13.0"
      ]
     },
     "execution_count": 39,
     "metadata": {},
     "output_type": "execute_result"
    }
   ],
   "source": [
    "# What's the value the formula returns?\n",
    "sheet.range('G8').value"
   ]
  },
  {
   "cell_type": "markdown",
   "metadata": {},
   "source": [
    "### Clean up\n",
    "Let's clean up this sheet with a little automation."
   ]
  },
  {
   "cell_type": "code",
   "execution_count": 40,
   "metadata": {},
   "outputs": [],
   "source": [
    "# We can reset cells manually, one by one...\n",
    "sheet.range(\"E6\").value = None\n",
    "sheet.range(\"F6\").value = None\n",
    "sheet.range(\"G6\").value = None\n",
    "sheet.range(\"G8\").value = None"
   ]
  },
  {
   "cell_type": "code",
   "execution_count": 41,
   "metadata": {},
   "outputs": [
    {
     "data": {
      "text/plain": [
       "[[None, 'animal', 'legs'], [0.0, 'cat', 4.0], [1.0, 'octopus', 8.0]]"
      ]
     },
     "execution_count": 41,
     "metadata": {},
     "output_type": "execute_result"
    }
   ],
   "source": [
    "# ...or, using a \"range expand\" from cell E3...\n",
    "sheet.range('E3').expand().value"
   ]
  },
  {
   "cell_type": "code",
   "execution_count": 42,
   "metadata": {},
   "outputs": [],
   "source": [
    "# ...we add .clear_contents() to do it all in one go\n",
    "sheet.range('E3').expand().clear_contents()"
   ]
  },
  {
   "cell_type": "code",
   "execution_count": 43,
   "metadata": {},
   "outputs": [],
   "source": [
    "# Let's also remove the information we've put into cells A1 and\n",
    "# C1. We could do this manually, but let's show how you can do\n",
    "# it with a for loop iterating through the whole first row.\n",
    "\n",
    "for letter in \"ABCDEFGHIJKLM\":\n",
    "    cell = letter + \"1\"  # A1, B1, C1, etc\n",
    "    sheet.range(cell).value = None"
   ]
  },
  {
   "cell_type": "markdown",
   "metadata": {},
   "source": [
    "# \n",
    "\n",
    "<div class=\"alert alert-block alert-info\" style=\"background-color: #BA001E; border: 0px; -moz-border-radius: 10px; -webkit-border-radius: 10px;\">\n",
    "<h2 style=\"color: white\">\n",
    "S-MartX Data\n",
    "</h2><br>\n",
    "</div>\n",
    "\n",
    "Let's read in the S-MartX e-commerce dataset. S-Martx supplies various products in South-East Asian countries such as Cambodia, Vietnam, Indonesia, Singapore and Malaysia. "
   ]
  },
  {
   "cell_type": "code",
   "execution_count": 44,
   "metadata": {},
   "outputs": [
    {
     "data": {
      "text/plain": [
       "(50035, 30)"
      ]
     },
     "execution_count": 44,
     "metadata": {},
     "output_type": "execute_result"
    }
   ],
   "source": [
    "# This dataset has 50k rows and 30 columns\n",
    "\n",
    "df = pd.read_excel('S-MartX Database.xlsx', sheet_name='Main Database')\n",
    "df.shape"
   ]
  },
  {
   "cell_type": "code",
   "execution_count": 45,
   "metadata": {},
   "outputs": [
    {
     "data": {
      "text/html": [
       "<div>\n",
       "<style scoped>\n",
       "    .dataframe tbody tr th:only-of-type {\n",
       "        vertical-align: middle;\n",
       "    }\n",
       "\n",
       "    .dataframe tbody tr th {\n",
       "        vertical-align: top;\n",
       "    }\n",
       "\n",
       "    .dataframe thead th {\n",
       "        text-align: right;\n",
       "    }\n",
       "</style>\n",
       "<table border=\"1\" class=\"dataframe\">\n",
       "  <thead>\n",
       "    <tr style=\"text-align: right;\">\n",
       "      <th></th>\n",
       "      <th>Receipt No</th>\n",
       "      <th>Item Name</th>\n",
       "      <th>Category Name</th>\n",
       "      <th>Prod Grp Name</th>\n",
       "      <th>Brand Name</th>\n",
       "      <th>Product Code</th>\n",
       "      <th>Description</th>\n",
       "      <th>Price[SGD]</th>\n",
       "      <th>Quantity</th>\n",
       "      <th>Discount</th>\n",
       "      <th>...</th>\n",
       "      <th>Gender</th>\n",
       "      <th>Age</th>\n",
       "      <th>Year</th>\n",
       "      <th>Month</th>\n",
       "      <th>Day</th>\n",
       "      <th>Month-Year</th>\n",
       "      <th>Payment Mode</th>\n",
       "      <th>Bank Name</th>\n",
       "      <th>GST</th>\n",
       "      <th>OCBC Credit Card</th>\n",
       "    </tr>\n",
       "  </thead>\n",
       "  <tbody>\n",
       "    <tr>\n",
       "      <th>0</th>\n",
       "      <td>17A0112000014900</td>\n",
       "      <td>Seagate Backup Plus Hub 4 TB External Hard Dri...</td>\n",
       "      <td>Mobiles &amp; Computers</td>\n",
       "      <td>Drives &amp; Storage</td>\n",
       "      <td>Seagate</td>\n",
       "      <td>M&amp;C&gt;DRS&gt;SEA</td>\n",
       "      <td>USB 3.0, for Computer Desktop Workstation PC L...</td>\n",
       "      <td>1048.662</td>\n",
       "      <td>1</td>\n",
       "      <td>0.00</td>\n",
       "      <td>...</td>\n",
       "      <td>Male</td>\n",
       "      <td>33</td>\n",
       "      <td>2010</td>\n",
       "      <td>1</td>\n",
       "      <td>1</td>\n",
       "      <td>1-2010</td>\n",
       "      <td>Credit Card</td>\n",
       "      <td>OCBC</td>\n",
       "      <td>0.07</td>\n",
       "      <td>1</td>\n",
       "    </tr>\n",
       "    <tr>\n",
       "      <th>1</th>\n",
       "      <td>17A0112000014900</td>\n",
       "      <td>Seagate Backup Plus Hub 4 TB External Hard Dri...</td>\n",
       "      <td>Mobiles &amp; Computers</td>\n",
       "      <td>Drives &amp; Storage</td>\n",
       "      <td>Seagate</td>\n",
       "      <td>M&amp;C&gt;DRS&gt;SEA</td>\n",
       "      <td>USB 3.0, for Computer Desktop Workstation PC L...</td>\n",
       "      <td>1048.662</td>\n",
       "      <td>1</td>\n",
       "      <td>0.00</td>\n",
       "      <td>...</td>\n",
       "      <td>Male</td>\n",
       "      <td>33</td>\n",
       "      <td>2010</td>\n",
       "      <td>1</td>\n",
       "      <td>1</td>\n",
       "      <td>1-2010</td>\n",
       "      <td>Credit Card</td>\n",
       "      <td>OCBC</td>\n",
       "      <td>0.07</td>\n",
       "      <td>1</td>\n",
       "    </tr>\n",
       "    <tr>\n",
       "      <th>2</th>\n",
       "      <td>17A0114000011990</td>\n",
       "      <td>Samsung 6 kg</td>\n",
       "      <td>Home Appliances &amp; Electronics</td>\n",
       "      <td>Washing Machines</td>\n",
       "      <td>Samsung</td>\n",
       "      <td>H&amp;E&gt;WAM&gt;SAM</td>\n",
       "      <td>Fully-Automatic Front Loading Washing Machine ...</td>\n",
       "      <td>5246.622</td>\n",
       "      <td>2</td>\n",
       "      <td>0.08</td>\n",
       "      <td>...</td>\n",
       "      <td>Male</td>\n",
       "      <td>26</td>\n",
       "      <td>2010</td>\n",
       "      <td>1</td>\n",
       "      <td>1</td>\n",
       "      <td>1-2010</td>\n",
       "      <td>Credit Card</td>\n",
       "      <td>OCBC</td>\n",
       "      <td>0.07</td>\n",
       "      <td>1</td>\n",
       "    </tr>\n",
       "    <tr>\n",
       "      <th>3</th>\n",
       "      <td>17A0113000012532</td>\n",
       "      <td>Jockey Women's Cotton Racerback Tank Top</td>\n",
       "      <td>Fashion &amp; Clothing (Men &amp; Women)</td>\n",
       "      <td>T-shirts &amp; Polos</td>\n",
       "      <td>Jockey</td>\n",
       "      <td>F&amp;C&gt;TSP&gt;JOC</td>\n",
       "      <td>red/vlack</td>\n",
       "      <td>55.476</td>\n",
       "      <td>1</td>\n",
       "      <td>0.12</td>\n",
       "      <td>...</td>\n",
       "      <td>Male</td>\n",
       "      <td>31</td>\n",
       "      <td>2010</td>\n",
       "      <td>1</td>\n",
       "      <td>2</td>\n",
       "      <td>1-2010</td>\n",
       "      <td>Debit Card</td>\n",
       "      <td>DBS Bank</td>\n",
       "      <td>0.07</td>\n",
       "      <td>0</td>\n",
       "    </tr>\n",
       "    <tr>\n",
       "      <th>4</th>\n",
       "      <td>17A0114000011940</td>\n",
       "      <td>Epson EcoTank L3110</td>\n",
       "      <td>Mobiles &amp; Computers</td>\n",
       "      <td>Printers &amp; Ink</td>\n",
       "      <td>Epson</td>\n",
       "      <td>M&amp;C&gt;PRI&gt;EPS</td>\n",
       "      <td>All-in-One Ink Tank Printer (Black)</td>\n",
       "      <td>1614.462</td>\n",
       "      <td>1</td>\n",
       "      <td>0.08</td>\n",
       "      <td>...</td>\n",
       "      <td>Male</td>\n",
       "      <td>35</td>\n",
       "      <td>2010</td>\n",
       "      <td>1</td>\n",
       "      <td>2</td>\n",
       "      <td>1-2010</td>\n",
       "      <td>Credit Card</td>\n",
       "      <td>Bank of Singapore (BOS)</td>\n",
       "      <td>0.07</td>\n",
       "      <td>0</td>\n",
       "    </tr>\n",
       "  </tbody>\n",
       "</table>\n",
       "<p>5 rows × 30 columns</p>\n",
       "</div>"
      ],
      "text/plain": [
       "         Receipt No                                          Item Name  \\\n",
       "0  17A0112000014900  Seagate Backup Plus Hub 4 TB External Hard Dri...   \n",
       "1  17A0112000014900  Seagate Backup Plus Hub 4 TB External Hard Dri...   \n",
       "2  17A0114000011990                                       Samsung 6 kg   \n",
       "3  17A0113000012532           Jockey Women's Cotton Racerback Tank Top   \n",
       "4  17A0114000011940                               Epson EcoTank L3110    \n",
       "\n",
       "                      Category Name     Prod Grp Name Brand Name Product Code  \\\n",
       "0               Mobiles & Computers  Drives & Storage    Seagate  M&C>DRS>SEA   \n",
       "1               Mobiles & Computers  Drives & Storage    Seagate  M&C>DRS>SEA   \n",
       "2     Home Appliances & Electronics  Washing Machines    Samsung  H&E>WAM>SAM   \n",
       "3  Fashion & Clothing (Men & Women)  T-shirts & Polos     Jockey  F&C>TSP>JOC   \n",
       "4               Mobiles & Computers    Printers & Ink      Epson  M&C>PRI>EPS   \n",
       "\n",
       "                                         Description  Price[SGD]  Quantity  \\\n",
       "0  USB 3.0, for Computer Desktop Workstation PC L...    1048.662         1   \n",
       "1  USB 3.0, for Computer Desktop Workstation PC L...    1048.662         1   \n",
       "2  Fully-Automatic Front Loading Washing Machine ...    5246.622         2   \n",
       "3                                          red/vlack      55.476         1   \n",
       "4                All-in-One Ink Tank Printer (Black)    1614.462         1   \n",
       "\n",
       "   Discount  ... Gender Age  Year  Month Day Month-Year Payment Mode  \\\n",
       "0      0.00  ...   Male  33  2010      1   1     1-2010  Credit Card   \n",
       "1      0.00  ...   Male  33  2010      1   1     1-2010  Credit Card   \n",
       "2      0.08  ...   Male  26  2010      1   1     1-2010  Credit Card   \n",
       "3      0.12  ...   Male  31  2010      1   2     1-2010   Debit Card   \n",
       "4      0.08  ...   Male  35  2010      1   2     1-2010  Credit Card   \n",
       "\n",
       "                 Bank Name   GST OCBC Credit Card  \n",
       "0                     OCBC  0.07                1  \n",
       "1                     OCBC  0.07                1  \n",
       "2                     OCBC  0.07                1  \n",
       "3                 DBS Bank  0.07                0  \n",
       "4  Bank of Singapore (BOS)  0.07                0  \n",
       "\n",
       "[5 rows x 30 columns]"
      ]
     },
     "execution_count": 45,
     "metadata": {},
     "output_type": "execute_result"
    }
   ],
   "source": [
    "# Jupyter doesn't display all the columns by default\n",
    "df.head()"
   ]
  },
  {
   "cell_type": "code",
   "execution_count": 46,
   "metadata": {},
   "outputs": [],
   "source": [
    "# Let's display all columns for this entire notebook\n",
    "pd.set_option('display.max_columns', None)"
   ]
  },
  {
   "cell_type": "code",
   "execution_count": 47,
   "metadata": {},
   "outputs": [
    {
     "data": {
      "text/html": [
       "<div>\n",
       "<style scoped>\n",
       "    .dataframe tbody tr th:only-of-type {\n",
       "        vertical-align: middle;\n",
       "    }\n",
       "\n",
       "    .dataframe tbody tr th {\n",
       "        vertical-align: top;\n",
       "    }\n",
       "\n",
       "    .dataframe thead th {\n",
       "        text-align: right;\n",
       "    }\n",
       "</style>\n",
       "<table border=\"1\" class=\"dataframe\">\n",
       "  <thead>\n",
       "    <tr style=\"text-align: right;\">\n",
       "      <th></th>\n",
       "      <th>Receipt No</th>\n",
       "      <th>Item Name</th>\n",
       "      <th>Category Name</th>\n",
       "      <th>Prod Grp Name</th>\n",
       "      <th>Brand Name</th>\n",
       "      <th>Product Code</th>\n",
       "      <th>Description</th>\n",
       "      <th>Price[SGD]</th>\n",
       "      <th>Quantity</th>\n",
       "      <th>Discount</th>\n",
       "      <th>Time</th>\n",
       "      <th>Date</th>\n",
       "      <th>Net Sales[SGD]</th>\n",
       "      <th>Profit Margin</th>\n",
       "      <th>Country</th>\n",
       "      <th>Offer Name</th>\n",
       "      <th>Vendor Name</th>\n",
       "      <th>Shift No</th>\n",
       "      <th>Staff</th>\n",
       "      <th>Customer ID</th>\n",
       "      <th>Gender</th>\n",
       "      <th>Age</th>\n",
       "      <th>Year</th>\n",
       "      <th>Month</th>\n",
       "      <th>Day</th>\n",
       "      <th>Month-Year</th>\n",
       "      <th>Payment Mode</th>\n",
       "      <th>Bank Name</th>\n",
       "      <th>GST</th>\n",
       "      <th>OCBC Credit Card</th>\n",
       "    </tr>\n",
       "  </thead>\n",
       "  <tbody>\n",
       "    <tr>\n",
       "      <th>0</th>\n",
       "      <td>17A0112000014900</td>\n",
       "      <td>Seagate Backup Plus Hub 4 TB External Hard Dri...</td>\n",
       "      <td>Mobiles &amp; Computers</td>\n",
       "      <td>Drives &amp; Storage</td>\n",
       "      <td>Seagate</td>\n",
       "      <td>M&amp;C&gt;DRS&gt;SEA</td>\n",
       "      <td>USB 3.0, for Computer Desktop Workstation PC L...</td>\n",
       "      <td>1048.662</td>\n",
       "      <td>1</td>\n",
       "      <td>0.00</td>\n",
       "      <td>03:53:34</td>\n",
       "      <td>2010-01-01</td>\n",
       "      <td>1048.66200</td>\n",
       "      <td>0.10</td>\n",
       "      <td>Sin</td>\n",
       "      <td>None</td>\n",
       "      <td>Seq. Associates</td>\n",
       "      <td>2</td>\n",
       "      <td>22926</td>\n",
       "      <td>Sin14900</td>\n",
       "      <td>Male</td>\n",
       "      <td>33</td>\n",
       "      <td>2010</td>\n",
       "      <td>1</td>\n",
       "      <td>1</td>\n",
       "      <td>1-2010</td>\n",
       "      <td>Credit Card</td>\n",
       "      <td>OCBC</td>\n",
       "      <td>0.07</td>\n",
       "      <td>1</td>\n",
       "    </tr>\n",
       "    <tr>\n",
       "      <th>1</th>\n",
       "      <td>17A0112000014900</td>\n",
       "      <td>Seagate Backup Plus Hub 4 TB External Hard Dri...</td>\n",
       "      <td>Mobiles &amp; Computers</td>\n",
       "      <td>Drives &amp; Storage</td>\n",
       "      <td>Seagate</td>\n",
       "      <td>M&amp;C&gt;DRS&gt;SEA</td>\n",
       "      <td>USB 3.0, for Computer Desktop Workstation PC L...</td>\n",
       "      <td>1048.662</td>\n",
       "      <td>1</td>\n",
       "      <td>0.00</td>\n",
       "      <td>03:53:34</td>\n",
       "      <td>2010-01-01</td>\n",
       "      <td>1048.66200</td>\n",
       "      <td>0.10</td>\n",
       "      <td>Sin</td>\n",
       "      <td>None</td>\n",
       "      <td>Seq. Associates</td>\n",
       "      <td>2</td>\n",
       "      <td>22926</td>\n",
       "      <td>Sin14900</td>\n",
       "      <td>Male</td>\n",
       "      <td>33</td>\n",
       "      <td>2010</td>\n",
       "      <td>1</td>\n",
       "      <td>1</td>\n",
       "      <td>1-2010</td>\n",
       "      <td>Credit Card</td>\n",
       "      <td>OCBC</td>\n",
       "      <td>0.07</td>\n",
       "      <td>1</td>\n",
       "    </tr>\n",
       "    <tr>\n",
       "      <th>2</th>\n",
       "      <td>17A0114000011990</td>\n",
       "      <td>Samsung 6 kg</td>\n",
       "      <td>Home Appliances &amp; Electronics</td>\n",
       "      <td>Washing Machines</td>\n",
       "      <td>Samsung</td>\n",
       "      <td>H&amp;E&gt;WAM&gt;SAM</td>\n",
       "      <td>Fully-Automatic Front Loading Washing Machine ...</td>\n",
       "      <td>5246.622</td>\n",
       "      <td>2</td>\n",
       "      <td>0.08</td>\n",
       "      <td>18:24:57</td>\n",
       "      <td>2010-01-01</td>\n",
       "      <td>10073.51424</td>\n",
       "      <td>0.12</td>\n",
       "      <td>Sin</td>\n",
       "      <td>None</td>\n",
       "      <td>Llen Associates</td>\n",
       "      <td>1</td>\n",
       "      <td>21653</td>\n",
       "      <td>Sin11990</td>\n",
       "      <td>Male</td>\n",
       "      <td>26</td>\n",
       "      <td>2010</td>\n",
       "      <td>1</td>\n",
       "      <td>1</td>\n",
       "      <td>1-2010</td>\n",
       "      <td>Credit Card</td>\n",
       "      <td>OCBC</td>\n",
       "      <td>0.07</td>\n",
       "      <td>1</td>\n",
       "    </tr>\n",
       "  </tbody>\n",
       "</table>\n",
       "</div>"
      ],
      "text/plain": [
       "         Receipt No                                          Item Name  \\\n",
       "0  17A0112000014900  Seagate Backup Plus Hub 4 TB External Hard Dri...   \n",
       "1  17A0112000014900  Seagate Backup Plus Hub 4 TB External Hard Dri...   \n",
       "2  17A0114000011990                                       Samsung 6 kg   \n",
       "\n",
       "                   Category Name     Prod Grp Name Brand Name Product Code  \\\n",
       "0            Mobiles & Computers  Drives & Storage    Seagate  M&C>DRS>SEA   \n",
       "1            Mobiles & Computers  Drives & Storage    Seagate  M&C>DRS>SEA   \n",
       "2  Home Appliances & Electronics  Washing Machines    Samsung  H&E>WAM>SAM   \n",
       "\n",
       "                                         Description  Price[SGD]  Quantity  \\\n",
       "0  USB 3.0, for Computer Desktop Workstation PC L...    1048.662         1   \n",
       "1  USB 3.0, for Computer Desktop Workstation PC L...    1048.662         1   \n",
       "2  Fully-Automatic Front Loading Washing Machine ...    5246.622         2   \n",
       "\n",
       "   Discount      Time       Date  Net Sales[SGD]  Profit Margin Country  \\\n",
       "0      0.00  03:53:34 2010-01-01      1048.66200           0.10     Sin   \n",
       "1      0.00  03:53:34 2010-01-01      1048.66200           0.10     Sin   \n",
       "2      0.08  18:24:57 2010-01-01     10073.51424           0.12     Sin   \n",
       "\n",
       "  Offer Name      Vendor Name  Shift No  Staff Customer ID Gender  Age  Year  \\\n",
       "0       None  Seq. Associates         2  22926    Sin14900   Male   33  2010   \n",
       "1       None  Seq. Associates         2  22926    Sin14900   Male   33  2010   \n",
       "2       None  Llen Associates         1  21653    Sin11990   Male   26  2010   \n",
       "\n",
       "   Month  Day Month-Year Payment Mode Bank Name   GST  OCBC Credit Card  \n",
       "0      1    1     1-2010  Credit Card      OCBC  0.07                 1  \n",
       "1      1    1     1-2010  Credit Card      OCBC  0.07                 1  \n",
       "2      1    1     1-2010  Credit Card      OCBC  0.07                 1  "
      ]
     },
     "execution_count": 47,
     "metadata": {},
     "output_type": "execute_result"
    }
   ],
   "source": [
    "df.head(3)"
   ]
  },
  {
   "cell_type": "markdown",
   "metadata": {},
   "source": [
    "---\n",
    "\n",
    "> ### 🚩 Exercises\n",
    "> 1. Filter the dataframe `df` to just rows where `Vendor Name` is equal to `Sports Hub`, and assign it to a variable called `vendor`.\n",
    "> 2. How many orders are in the `vendor` dataframe?\n",
    "> 3. What is the total net sales (`Net Sales[SGD]`) by this vendor?"
   ]
  },
  {
   "cell_type": "code",
   "execution_count": 50,
   "metadata": {},
   "outputs": [
    {
     "data": {
      "text/html": [
       "<div>\n",
       "<style scoped>\n",
       "    .dataframe tbody tr th:only-of-type {\n",
       "        vertical-align: middle;\n",
       "    }\n",
       "\n",
       "    .dataframe tbody tr th {\n",
       "        vertical-align: top;\n",
       "    }\n",
       "\n",
       "    .dataframe thead th {\n",
       "        text-align: right;\n",
       "    }\n",
       "</style>\n",
       "<table border=\"1\" class=\"dataframe\">\n",
       "  <thead>\n",
       "    <tr style=\"text-align: right;\">\n",
       "      <th></th>\n",
       "      <th>Receipt No</th>\n",
       "      <th>Item Name</th>\n",
       "      <th>Category Name</th>\n",
       "      <th>Prod Grp Name</th>\n",
       "      <th>Brand Name</th>\n",
       "      <th>Product Code</th>\n",
       "      <th>Description</th>\n",
       "      <th>Price[SGD]</th>\n",
       "      <th>Quantity</th>\n",
       "      <th>Discount</th>\n",
       "      <th>Time</th>\n",
       "      <th>Date</th>\n",
       "      <th>Net Sales[SGD]</th>\n",
       "      <th>Profit Margin</th>\n",
       "      <th>Country</th>\n",
       "      <th>Offer Name</th>\n",
       "      <th>Vendor Name</th>\n",
       "      <th>Shift No</th>\n",
       "      <th>Staff</th>\n",
       "      <th>Customer ID</th>\n",
       "      <th>Gender</th>\n",
       "      <th>Age</th>\n",
       "      <th>Year</th>\n",
       "      <th>Month</th>\n",
       "      <th>Day</th>\n",
       "      <th>Month-Year</th>\n",
       "      <th>Payment Mode</th>\n",
       "      <th>Bank Name</th>\n",
       "      <th>GST</th>\n",
       "      <th>OCBC Credit Card</th>\n",
       "    </tr>\n",
       "  </thead>\n",
       "  <tbody>\n",
       "    <tr>\n",
       "      <th>14</th>\n",
       "      <td>17A0119000012184</td>\n",
       "      <td>POLESTAR Hike CAMO Rucksack with RAIN Cover/Tr...</td>\n",
       "      <td>Sports &amp; Fitness</td>\n",
       "      <td>Camping &amp; Hiking</td>\n",
       "      <td>Polestar</td>\n",
       "      <td>S&amp;F&gt;CAH&gt;POL</td>\n",
       "      <td>60 ltrs (orange)</td>\n",
       "      <td>856.428</td>\n",
       "      <td>2</td>\n",
       "      <td>0.00</td>\n",
       "      <td>08:41:07</td>\n",
       "      <td>2010-01-05</td>\n",
       "      <td>1712.85600</td>\n",
       "      <td>0.3</td>\n",
       "      <td>Sin</td>\n",
       "      <td>None</td>\n",
       "      <td>Sports Hub</td>\n",
       "      <td>1</td>\n",
       "      <td>22636</td>\n",
       "      <td>Sin12184</td>\n",
       "      <td>Male</td>\n",
       "      <td>23</td>\n",
       "      <td>2010</td>\n",
       "      <td>1</td>\n",
       "      <td>5</td>\n",
       "      <td>1-2010</td>\n",
       "      <td>Credit Card</td>\n",
       "      <td>CITI Bank</td>\n",
       "      <td>0.07</td>\n",
       "      <td>0</td>\n",
       "    </tr>\n",
       "    <tr>\n",
       "      <th>163</th>\n",
       "      <td>17S0902000015695</td>\n",
       "      <td>F.C. Barcelona Badge T-Shirt</td>\n",
       "      <td>Sports &amp; Fitness</td>\n",
       "      <td>Sports Collectibles</td>\n",
       "      <td>Fc</td>\n",
       "      <td>S&amp;F&gt;SPC&gt;FCX</td>\n",
       "      <td>Blue/Red</td>\n",
       "      <td>243.294</td>\n",
       "      <td>1</td>\n",
       "      <td>0.00</td>\n",
       "      <td>03:27:23</td>\n",
       "      <td>2010-02-03</td>\n",
       "      <td>243.29400</td>\n",
       "      <td>0.3</td>\n",
       "      <td>Sin</td>\n",
       "      <td>None</td>\n",
       "      <td>Sports Hub</td>\n",
       "      <td>2</td>\n",
       "      <td>21042</td>\n",
       "      <td>Sin15695</td>\n",
       "      <td>Male</td>\n",
       "      <td>32</td>\n",
       "      <td>2010</td>\n",
       "      <td>2</td>\n",
       "      <td>3</td>\n",
       "      <td>2-2010</td>\n",
       "      <td>Debit Card</td>\n",
       "      <td>OCBC</td>\n",
       "      <td>0.07</td>\n",
       "      <td>0</td>\n",
       "    </tr>\n",
       "    <tr>\n",
       "      <th>226</th>\n",
       "      <td>17S0903000015226</td>\n",
       "      <td>POLESTAR XPLORE with Rain Cover Rucksack/Hikin...</td>\n",
       "      <td>Sports &amp; Fitness</td>\n",
       "      <td>Camping &amp; Hiking</td>\n",
       "      <td>Polestar</td>\n",
       "      <td>S&amp;F&gt;CAH&gt;POL</td>\n",
       "      <td>55 ltrs (Sky)</td>\n",
       "      <td>375.774</td>\n",
       "      <td>2</td>\n",
       "      <td>0.08</td>\n",
       "      <td>19:37:54</td>\n",
       "      <td>2010-02-14</td>\n",
       "      <td>721.48608</td>\n",
       "      <td>0.3</td>\n",
       "      <td>IDN</td>\n",
       "      <td>None</td>\n",
       "      <td>Sports Hub</td>\n",
       "      <td>2</td>\n",
       "      <td>21905</td>\n",
       "      <td>IDN15226</td>\n",
       "      <td>Female</td>\n",
       "      <td>29</td>\n",
       "      <td>2010</td>\n",
       "      <td>2</td>\n",
       "      <td>14</td>\n",
       "      <td>2-2010</td>\n",
       "      <td>COD</td>\n",
       "      <td>Cash</td>\n",
       "      <td>0.07</td>\n",
       "      <td>0</td>\n",
       "    </tr>\n",
       "    <tr>\n",
       "      <th>245</th>\n",
       "      <td>17S0903000015304</td>\n",
       "      <td>Strauss Yoga Mat Bag</td>\n",
       "      <td>Sports &amp; Fitness</td>\n",
       "      <td>Yoga</td>\n",
       "      <td>Whitecloud</td>\n",
       "      <td>S&amp;F&gt;YOG&gt;WHI</td>\n",
       "      <td>Full Zip</td>\n",
       "      <td>163.254</td>\n",
       "      <td>1</td>\n",
       "      <td>0.05</td>\n",
       "      <td>00:44:59</td>\n",
       "      <td>2010-02-18</td>\n",
       "      <td>155.09130</td>\n",
       "      <td>0.3</td>\n",
       "      <td>Sin</td>\n",
       "      <td>Buy any 4 pay for 3</td>\n",
       "      <td>Sports Hub</td>\n",
       "      <td>2</td>\n",
       "      <td>21905</td>\n",
       "      <td>Sin15304</td>\n",
       "      <td>Female</td>\n",
       "      <td>26</td>\n",
       "      <td>2010</td>\n",
       "      <td>2</td>\n",
       "      <td>18</td>\n",
       "      <td>2-2010</td>\n",
       "      <td>Wallet</td>\n",
       "      <td>Ez-Link</td>\n",
       "      <td>0.07</td>\n",
       "      <td>0</td>\n",
       "    </tr>\n",
       "    <tr>\n",
       "      <th>285</th>\n",
       "      <td>17S0903000015324</td>\n",
       "      <td>Voroly Portable Ab Exercise Bike Cycle Peddle ...</td>\n",
       "      <td>Sports &amp; Fitness</td>\n",
       "      <td>Cardio Equipment</td>\n",
       "      <td>Voroly</td>\n",
       "      <td>S&amp;F&gt;CAE&gt;VOR</td>\n",
       "      <td>Silver</td>\n",
       "      <td>877.266</td>\n",
       "      <td>1</td>\n",
       "      <td>0.00</td>\n",
       "      <td>01:33:46</td>\n",
       "      <td>2010-02-27</td>\n",
       "      <td>877.26600</td>\n",
       "      <td>0.3</td>\n",
       "      <td>Sin</td>\n",
       "      <td>None</td>\n",
       "      <td>Sports Hub</td>\n",
       "      <td>2</td>\n",
       "      <td>21905</td>\n",
       "      <td>Sin15324</td>\n",
       "      <td>Male</td>\n",
       "      <td>24</td>\n",
       "      <td>2010</td>\n",
       "      <td>2</td>\n",
       "      <td>27</td>\n",
       "      <td>2-2010</td>\n",
       "      <td>Debit Card</td>\n",
       "      <td>OCBC</td>\n",
       "      <td>0.07</td>\n",
       "      <td>0</td>\n",
       "    </tr>\n",
       "  </tbody>\n",
       "</table>\n",
       "</div>"
      ],
      "text/plain": [
       "           Receipt No                                          Item Name  \\\n",
       "14   17A0119000012184  POLESTAR Hike CAMO Rucksack with RAIN Cover/Tr...   \n",
       "163  17S0902000015695                      F.C. Barcelona Badge T-Shirt    \n",
       "226  17S0903000015226  POLESTAR XPLORE with Rain Cover Rucksack/Hikin...   \n",
       "245  17S0903000015304                              Strauss Yoga Mat Bag    \n",
       "285  17S0903000015324  Voroly Portable Ab Exercise Bike Cycle Peddle ...   \n",
       "\n",
       "        Category Name        Prod Grp Name  Brand Name Product Code  \\\n",
       "14   Sports & Fitness     Camping & Hiking    Polestar  S&F>CAH>POL   \n",
       "163  Sports & Fitness  Sports Collectibles          Fc  S&F>SPC>FCX   \n",
       "226  Sports & Fitness     Camping & Hiking    Polestar  S&F>CAH>POL   \n",
       "245  Sports & Fitness                 Yoga  Whitecloud  S&F>YOG>WHI   \n",
       "285  Sports & Fitness     Cardio Equipment      Voroly  S&F>CAE>VOR   \n",
       "\n",
       "          Description  Price[SGD]  Quantity  Discount      Time       Date  \\\n",
       "14   60 ltrs (orange)     856.428         2      0.00  08:41:07 2010-01-05   \n",
       "163          Blue/Red     243.294         1      0.00  03:27:23 2010-02-03   \n",
       "226     55 ltrs (Sky)     375.774         2      0.08  19:37:54 2010-02-14   \n",
       "245          Full Zip     163.254         1      0.05  00:44:59 2010-02-18   \n",
       "285            Silver     877.266         1      0.00  01:33:46 2010-02-27   \n",
       "\n",
       "     Net Sales[SGD]  Profit Margin Country           Offer Name Vendor Name  \\\n",
       "14       1712.85600            0.3     Sin                 None  Sports Hub   \n",
       "163       243.29400            0.3     Sin                 None  Sports Hub   \n",
       "226       721.48608            0.3     IDN                 None  Sports Hub   \n",
       "245       155.09130            0.3     Sin  Buy any 4 pay for 3  Sports Hub   \n",
       "285       877.26600            0.3     Sin                 None  Sports Hub   \n",
       "\n",
       "     Shift No  Staff Customer ID  Gender  Age  Year  Month  Day Month-Year  \\\n",
       "14          1  22636    Sin12184    Male   23  2010      1    5     1-2010   \n",
       "163         2  21042    Sin15695    Male   32  2010      2    3     2-2010   \n",
       "226         2  21905    IDN15226  Female   29  2010      2   14     2-2010   \n",
       "245         2  21905    Sin15304  Female   26  2010      2   18     2-2010   \n",
       "285         2  21905    Sin15324    Male   24  2010      2   27     2-2010   \n",
       "\n",
       "    Payment Mode  Bank Name   GST  OCBC Credit Card  \n",
       "14   Credit Card  CITI Bank  0.07                 0  \n",
       "163   Debit Card       OCBC  0.07                 0  \n",
       "226          COD       Cash  0.07                 0  \n",
       "245       Wallet    Ez-Link  0.07                 0  \n",
       "285   Debit Card       OCBC  0.07                 0  "
      ]
     },
     "execution_count": 50,
     "metadata": {},
     "output_type": "execute_result"
    }
   ],
   "source": [
    "# 1. Filter the dataframe `df` to just rows where `Vendor Name` is equal to `Sports Hub`.\n",
    "\n",
    "# ✏️ ENTER YOUR SOLUTION HERE\n",
    "\n",
    "vendor = df[df[\"Vendor Name\"] == \"Sports Hub\"]\n",
    "vendor.head()"
   ]
  },
  {
   "cell_type": "code",
   "execution_count": 51,
   "metadata": {},
   "outputs": [
    {
     "data": {
      "text/plain": [
       "(983, 30)"
      ]
     },
     "execution_count": 51,
     "metadata": {},
     "output_type": "execute_result"
    }
   ],
   "source": [
    "# 2. How many orders are in the `vendor` dataframe?\n",
    "\n",
    "# ✏️ ENTER YOUR SOLUTION HERE\n",
    "\n",
    "vendor.shape\n"
   ]
  },
  {
   "cell_type": "code",
   "execution_count": 52,
   "metadata": {},
   "outputs": [
    {
     "data": {
      "text/plain": [
       "360152.1533852001"
      ]
     },
     "execution_count": 52,
     "metadata": {},
     "output_type": "execute_result"
    }
   ],
   "source": [
    "# 3. What is the total net sales (`Net Sales[SGD]`) by this vendor?\n",
    "\n",
    "# ✏️ ENTER YOUR SOLUTION HERE\n",
    "\n",
    "\n",
    "vendor[\"Net Sales[SGD]\"].sum()"
   ]
  },
  {
   "cell_type": "markdown",
   "metadata": {},
   "source": [
    "---\n",
    "\n",
    "To get the top brand by net sales, we do the following:\n",
    "- Group by brand name\n",
    "- Calculate the sum of the net sales column\n",
    "- Reset the index, then sort by the net sales column (descending)\n",
    "- Add `.iloc[0]` to get the top row (the row associated with the top brand)\n",
    "- Add `['Brand Name']` to pick out the string containing _just_ the name of the top brand"
   ]
  },
  {
   "cell_type": "code",
   "execution_count": 53,
   "metadata": {},
   "outputs": [
    {
     "data": {
      "text/plain": [
       "'Polestar'"
      ]
     },
     "execution_count": 53,
     "metadata": {},
     "output_type": "execute_result"
    }
   ],
   "source": [
    "# Try commenting out each line from the bottom up to see how this query \"evolves\".\n",
    "\n",
    "top_brand = (\n",
    "    vendor\n",
    "    .groupby(['Brand Name'])\n",
    "    ['Net Sales[SGD]']\n",
    "    .sum()\n",
    "    .reset_index()\n",
    "    .sort_values('Net Sales[SGD]', ascending=False)\n",
    "    .iloc[0]\n",
    "    ['Brand Name']\n",
    ")\n",
    "\n",
    "top_brand"
   ]
  },
  {
   "cell_type": "markdown",
   "metadata": {},
   "source": [
    "---\n",
    "\n",
    "> ### 🚩 Exercise\n",
    "> Repeat the above analysis to get the top item name by net sales."
   ]
  },
  {
   "cell_type": "code",
   "execution_count": 54,
   "metadata": {},
   "outputs": [
    {
     "data": {
      "text/plain": [
       "'POLESTAR Hike CAMO Rucksack with RAIN Cover/Trekking/Hiking BAGPACK/Backpack Bag'"
      ]
     },
     "execution_count": 54,
     "metadata": {},
     "output_type": "execute_result"
    }
   ],
   "source": [
    "# ✏️ ENTER YOUR SOLUTION HERE\n",
    "\n",
    "top_item = (\n",
    "    vendor\n",
    "    .groupby(['Item Name'])\n",
    "    ['Net Sales[SGD]']\n",
    "    .sum()\n",
    "    .reset_index()\n",
    "    .sort_values('Net Sales[SGD]', ascending=False)\n",
    "    .iloc[0]\n",
    "    ['Item Name']\n",
    ")\n",
    "\n",
    "top_item\n"
   ]
  },
  {
   "cell_type": "markdown",
   "metadata": {},
   "source": [
    "---\n",
    "\n",
    "> ### 🚩 Exercise\n",
    "> Identify the **TOP 4** category and sub-categories for this vendor by net sales.\n",
    "> \n",
    "> Tips:\n",
    "> - You will need a list with multiple column names in your groupby\n",
    "> - You can just do `.head(4)` at the end, to return a dataframe with three columns and four rows"
   ]
  },
  {
   "cell_type": "code",
   "execution_count": 57,
   "metadata": {},
   "outputs": [
    {
     "data": {
      "text/plain": [
       "Category Name    Prod Grp Name           \n",
       "Beauty & Health  Health & Personal Care       34869.365341\n",
       "                 Household Supplies           36835.867657\n",
       "                 Make-up                     140428.872978\n",
       "                 Personal Care Appliances    176970.546161\n",
       "Name: Net Sales[SGD], dtype: float64"
      ]
     },
     "execution_count": 57,
     "metadata": {},
     "output_type": "execute_result"
    }
   ],
   "source": [
    "# ✏️ ENTER YOUR SOLUTION HERE\n",
    "\n",
    "df.groupby([\"Category Name\",\"Prod Grp Name\"])['Net Sales[SGD]'].sum().head(4)\n"
   ]
  },
  {
   "cell_type": "markdown",
   "metadata": {},
   "source": [
    "---\n",
    "\n",
    "Let's open up a report template and fill all this information in."
   ]
  },
  {
   "cell_type": "code",
   "execution_count": 58,
   "metadata": {},
   "outputs": [],
   "source": [
    "# Create/connect to the workbook and sheet\n",
    "wb = xw.Book('S-MartX Vendor Report.xlsx')\n",
    "sheet = wb.sheets['Report']"
   ]
  },
  {
   "cell_type": "code",
   "execution_count": 59,
   "metadata": {},
   "outputs": [],
   "source": [
    "# Write the vendor's name into B3\n",
    "sheet.range('B3').value = 'Sports Hub'"
   ]
  },
  {
   "cell_type": "code",
   "execution_count": 60,
   "metadata": {},
   "outputs": [
    {
     "name": "stdout",
     "output_type": "stream",
     "text": [
      "05 Jan 2010 to 31 Dec 2019\n"
     ]
    }
   ],
   "source": [
    "# We can get the min/max dates as follows\n",
    "min_date = vendor.Date.min().strftime('%d %b %Y')\n",
    "max_date = vendor.Date.max().strftime('%d %b %Y')\n",
    "\n",
    "print(min_date, \"to\", max_date)"
   ]
  },
  {
   "cell_type": "markdown",
   "metadata": {},
   "source": [
    "---\n",
    "\n",
    "> ### 🚩 Exercises\n",
    "> 1. Fill cell `C6` with `min_date`.\n",
    "> 2. Fill cell `D6` with `max_date`.\n",
    "> 3. Fill cell `D7` with the order count calculated earlier.\n",
    "> 4. Fill cell `D8` with the total net sales (SGD).\n",
    "> 5. Fill cell `D9` with the top brand.\n",
    "> 6. Fill cell `D10` with the top item."
   ]
  },
  {
   "cell_type": "code",
   "execution_count": 61,
   "metadata": {},
   "outputs": [],
   "source": [
    "# ✏️ ENTER YOUR SOLUTIONS HERE\n",
    "\n",
    "\n"
   ]
  },
  {
   "cell_type": "markdown",
   "metadata": {},
   "source": [
    "> ### 🚩 Exercise\n",
    "> Fill cells `F7:H10` with the top four categories/sub-categories and their net sales numbers.\n",
    "> \n",
    "> _Tip: If you have this assigned to a dataframe `top_categories` then you may want to try writing `top_categories.values` in order to exclude the headers and dataframe index from also being written into the workbook._"
   ]
  },
  {
   "cell_type": "code",
   "execution_count": 62,
   "metadata": {},
   "outputs": [],
   "source": [
    "# ✏️ ENTER YOUR SOLUTION HERE\n",
    "\n",
    "\n"
   ]
  },
  {
   "cell_type": "markdown",
   "metadata": {},
   "source": [
    "---"
   ]
  },
  {
   "cell_type": "markdown",
   "metadata": {},
   "source": [
    "### Saving & closing the workbook\n",
    "You can save the workbook by calling `wb.save(\"filename.xlsx\")`.\n",
    "\n",
    "You can also close the workbook without saving if you would prefer by calling `wb.close()`.\n",
    "\n",
    "We will save this workbook!"
   ]
  },
  {
   "cell_type": "code",
   "execution_count": null,
   "metadata": {},
   "outputs": [],
   "source": [
    "# This is how to save the workbook\n",
    "vendor_name = \"Sports Hub\"\n",
    "wb.save(f\"S-MartX Vendor Report - {vendor_name}.xlsx\")"
   ]
  },
  {
   "cell_type": "markdown",
   "metadata": {},
   "source": [
    "---\n",
    "<div class=\"alert alert-block alert-info\">\n",
    "    <b>Please proceed to the next part of the course when you are ready.</b>\n",
    "</div>"
   ]
  }
 ],
 "metadata": {
  "kernelspec": {
   "display_name": "Python 3",
   "language": "python",
   "name": "python3"
  },
  "language_info": {
   "codemirror_mode": {
    "name": "ipython",
    "version": 3
   },
   "file_extension": ".py",
   "mimetype": "text/x-python",
   "name": "python",
   "nbconvert_exporter": "python",
   "pygments_lexer": "ipython3",
   "version": "3.8.8"
  },
  "toc": {
   "base_numbering": 1,
   "nav_menu": {},
   "number_sections": true,
   "sideBar": true,
   "skip_h1_title": false,
   "title_cell": "Table of Contents",
   "title_sidebar": "Contents",
   "toc_cell": false,
   "toc_position": {},
   "toc_section_display": true,
   "toc_window_display": false
  }
 },
 "nbformat": 4,
 "nbformat_minor": 4
}
