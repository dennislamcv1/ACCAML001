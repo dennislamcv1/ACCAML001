{
 "cells": [
  {
   "cell_type": "markdown",
   "metadata": {},
   "source": [
    "<img src=\"https://courses.edx.org/asset-v1:ACCA+ML001+2T2021+type@asset+block@acca-logo.jpg\" alt=\"ACCA logo\" style=\"width: 400px;\"/>\n",
    "\n",
    "# Introduction to Python\n",
    "## Part 3 - Containers\n",
    "\n",
    "* **Course:** __Machine learning with Python for finance professionals__ by ACCA\n",
    "* **Instructor:** [Coefficient](https://coefficient.ai) / [@CoefficientData](https://twitter.com/CoefficientData)\n",
    "\n",
    "---"
   ]
  },
  {
   "cell_type": "markdown",
   "metadata": {},
   "source": [
    "<div class=\"alert alert-block alert-info\" style=\"background-color: #BA001E; border: 0px; -moz-border-radius: 10px; -webkit-border-radius: 10px;\">\n",
    "<h2 style=\"color: white\">\n",
    "Lists\n",
    "</h2><br>\n",
    "</div>"
   ]
  },
  {
   "cell_type": "markdown",
   "metadata": {},
   "source": [
    "We use lists when we want to store several pieces of information in order (like a shopping list). We use **square brackets** to create a list."
   ]
  },
  {
   "cell_type": "code",
   "execution_count": 1,
   "metadata": {},
   "outputs": [
    {
     "data": {
      "text/plain": [
       "['Monday', 'Tuesday', 'Wednesday', 'Thursday', 'Friday', 'Saturday', 'Sunday']"
      ]
     },
     "execution_count": 1,
     "metadata": {},
     "output_type": "execute_result"
    }
   ],
   "source": [
    "days = [\"Monday\", \"Tuesday\", \"Wednesday\", \"Thursday\", \"Friday\", \"Saturday\", \"Sunday\"]\n",
    "days"
   ]
  },
  {
   "cell_type": "markdown",
   "metadata": {},
   "source": [
    "The type of list is `list`."
   ]
  },
  {
   "cell_type": "code",
   "execution_count": 2,
   "metadata": {},
   "outputs": [
    {
     "data": {
      "text/plain": [
       "list"
      ]
     },
     "execution_count": 2,
     "metadata": {},
     "output_type": "execute_result"
    }
   ],
   "source": [
    "type(days)"
   ]
  },
  {
   "cell_type": "markdown",
   "metadata": {},
   "source": [
    "List \"elements\" are accessed by their \"index\", **starting from zero**. Python is a \"zero-indexed\" language. We also use a zero-indexed system for counting our own ages.\n",
    "\n",
    "In the `days` list:\n",
    "- Index `0` is `\"Monday\"`\n",
    "- Index `1` is `\"Tuesday\"`\n",
    "- Index `2` is `\"Wednesday\"`\n",
    "- Index `3` is `\"Thursday\"`\n",
    "- Index `4` is `\"Friday\"`\n",
    "- Index `5` is `\"Saturday\"`\n",
    "- Index `6` is `\"Sunday\"`"
   ]
  },
  {
   "cell_type": "code",
   "execution_count": 3,
   "metadata": {},
   "outputs": [
    {
     "data": {
      "text/plain": [
       "'Sunday'"
      ]
     },
     "execution_count": 3,
     "metadata": {},
     "output_type": "execute_result"
    }
   ],
   "source": [
    "# We use square brackets to select elements from lists by their index.\n",
    "days[6]"
   ]
  },
  {
   "cell_type": "markdown",
   "metadata": {},
   "source": [
    "---\n",
    "> ### 🚩 Exercise\n",
    "> \n",
    "> 1. Print out `\"Friday\"` by index selection.\n",
    "> 2. Try negative indexes - how do these work?"
   ]
  },
  {
   "cell_type": "code",
   "execution_count": 5,
   "metadata": {},
   "outputs": [
    {
     "data": {
      "text/plain": [
       "'Friday'"
      ]
     },
     "execution_count": 5,
     "metadata": {},
     "output_type": "execute_result"
    }
   ],
   "source": [
    "# ✏️ ENTER YOUR SOLUTION HERE\n",
    "\n",
    "days[4]\n",
    "\n",
    "\n"
   ]
  },
  {
   "cell_type": "code",
   "execution_count": 6,
   "metadata": {},
   "outputs": [
    {
     "data": {
      "text/plain": [
       "'Friday'"
      ]
     },
     "execution_count": 6,
     "metadata": {},
     "output_type": "execute_result"
    }
   ],
   "source": [
    "# ✏️ ENTER YOUR SOLUTION HERE\n",
    "\n",
    "\n",
    "days[-3]\n",
    "\n"
   ]
  },
  {
   "cell_type": "markdown",
   "metadata": {},
   "source": [
    "---"
   ]
  },
  {
   "cell_type": "markdown",
   "metadata": {},
   "source": [
    "<div class=\"alert alert-block alert-info\" style=\"background-color: #BA001E; border: 0px; -moz-border-radius: 10px; -webkit-border-radius: 10px;\">\n",
    "<h2 style=\"color: white\">\n",
    "List slicing\n",
    "</h2><br>\n",
    "</div>"
   ]
  },
  {
   "cell_type": "markdown",
   "metadata": {},
   "source": [
    "We can extract a whole portion or \"slice\" of a list as follows:"
   ]
  },
  {
   "cell_type": "code",
   "execution_count": 7,
   "metadata": {},
   "outputs": [
    {
     "data": {
      "text/plain": [
       "['Tuesday', 'Wednesday']"
      ]
     },
     "execution_count": 7,
     "metadata": {},
     "output_type": "execute_result"
    }
   ],
   "source": [
    "days[1:3]"
   ]
  },
  {
   "cell_type": "markdown",
   "metadata": {},
   "source": [
    "This works as follows:\n",
    "- Select a slice from the list `days`...\n",
    "- ...starting with the element at index 1 (Tuesday)...\n",
    "- ...continue until you get to the element at index 3 (Thursday)...\n",
    "- ...but DO NOT include that last element (i.e. don't include Thursday)."
   ]
  },
  {
   "cell_type": "code",
   "execution_count": 8,
   "metadata": {},
   "outputs": [
    {
     "data": {
      "text/plain": [
       "['b', 'c']"
      ]
     },
     "execution_count": 8,
     "metadata": {},
     "output_type": "execute_result"
    }
   ],
   "source": [
    "# \"Slice\" from the element at index 1 up to (but not including!) index 3\n",
    "# a b c d\n",
    "# 0 1 2 3\n",
    "letters = ['a', 'b', 'c', 'd']\n",
    "letters[1:3]  # 1:3 gives \"b up to but not including d\", i.e. 'b, c'"
   ]
  },
  {
   "cell_type": "markdown",
   "metadata": {},
   "source": [
    "**Why?** There's a good reason."
   ]
  },
  {
   "cell_type": "code",
   "execution_count": 9,
   "metadata": {},
   "outputs": [
    {
     "data": {
      "text/plain": [
       "['Monday', 'Tuesday', 'Wednesday']"
      ]
     },
     "execution_count": 9,
     "metadata": {},
     "output_type": "execute_result"
    }
   ],
   "source": [
    "# From index 0 up to but not including index 3\n",
    "days[0:3]"
   ]
  },
  {
   "cell_type": "code",
   "execution_count": 10,
   "metadata": {},
   "outputs": [
    {
     "data": {
      "text/plain": [
       "['Monday', 'Tuesday', 'Wednesday']"
      ]
     },
     "execution_count": 10,
     "metadata": {},
     "output_type": "execute_result"
    }
   ],
   "source": [
    "# If you omit the 0, then it's implied,\n",
    "# i.e. \"from the beginning up to but not including index 3\"\n",
    "days[:3]"
   ]
  },
  {
   "cell_type": "code",
   "execution_count": 11,
   "metadata": {},
   "outputs": [],
   "source": [
    "# This is, conveniently, three items. Let's say I have a very large list...\n",
    "very_large_list = list(range(1000))  # this contains the numbers 0 to 999"
   ]
  },
  {
   "cell_type": "code",
   "execution_count": 12,
   "metadata": {},
   "outputs": [
    {
     "data": {
      "text/plain": [
       "[0, 1, 2, 3, 4]"
      ]
     },
     "execution_count": 12,
     "metadata": {},
     "output_type": "execute_result"
    }
   ],
   "source": [
    "# ...and I want to have a peak at the first 5, we can do this:\n",
    "very_large_list[:5]\n",
    "\n",
    "# This is very convenient!"
   ]
  },
  {
   "cell_type": "markdown",
   "metadata": {},
   "source": [
    "---"
   ]
  },
  {
   "cell_type": "markdown",
   "metadata": {},
   "source": [
    "> ### 🚩 Exercises\n",
    "> \n",
    "> Can you guess what these will generate? (Guess before you run, then ask yourself why this is the result.)"
   ]
  },
  {
   "cell_type": "code",
   "execution_count": 13,
   "metadata": {},
   "outputs": [
    {
     "data": {
      "text/plain": [
       "['Wednesday', 'Thursday', 'Friday', 'Saturday']"
      ]
     },
     "execution_count": 13,
     "metadata": {},
     "output_type": "execute_result"
    }
   ],
   "source": [
    "days[2:6]"
   ]
  },
  {
   "cell_type": "code",
   "execution_count": 14,
   "metadata": {},
   "outputs": [
    {
     "data": {
      "text/plain": [
       "['Monday', 'Tuesday', 'Wednesday', 'Thursday', 'Friday', 'Saturday']"
      ]
     },
     "execution_count": 14,
     "metadata": {},
     "output_type": "execute_result"
    }
   ],
   "source": [
    "days[:6]"
   ]
  },
  {
   "cell_type": "code",
   "execution_count": 15,
   "metadata": {},
   "outputs": [
    {
     "data": {
      "text/plain": [
       "['Friday', 'Saturday']"
      ]
     },
     "execution_count": 15,
     "metadata": {},
     "output_type": "execute_result"
    }
   ],
   "source": [
    "days[-3:-1]"
   ]
  },
  {
   "cell_type": "code",
   "execution_count": 16,
   "metadata": {},
   "outputs": [
    {
     "data": {
      "text/plain": [
       "['Tuesday', 'Wednesday', 'Thursday', 'Friday', 'Saturday', 'Sunday']"
      ]
     },
     "execution_count": 16,
     "metadata": {},
     "output_type": "execute_result"
    }
   ],
   "source": [
    "days[1:]"
   ]
  },
  {
   "cell_type": "code",
   "execution_count": 17,
   "metadata": {},
   "outputs": [
    {
     "data": {
      "text/plain": [
       "['Saturday', 'Sunday']"
      ]
     },
     "execution_count": 17,
     "metadata": {},
     "output_type": "execute_result"
    }
   ],
   "source": [
    "days[-2:]"
   ]
  },
  {
   "cell_type": "markdown",
   "metadata": {},
   "source": [
    "---"
   ]
  },
  {
   "cell_type": "markdown",
   "metadata": {},
   "source": [
    "<div class=\"alert alert-block alert-info\" style=\"background-color: #BA001E; border: 0px; -moz-border-radius: 10px; -webkit-border-radius: 10px;\">\n",
    "<h2 style=\"color: white\">\n",
    "Updating list entries\n",
    "</h2><br>\n",
    "</div>"
   ]
  },
  {
   "cell_type": "code",
   "execution_count": 18,
   "metadata": {},
   "outputs": [
    {
     "name": "stdout",
     "output_type": "stream",
     "text": [
      "['Monday', 'Tuesday', 'Wednesday', 'Thursday', 'Friday', 'Saturday', 'Sunday']\n",
      "['Monday', 'Tuesday', 'Wednesday', 'Thursday', 'Friday', 'Saturday', 'Zzzzzz...']\n"
     ]
    }
   ],
   "source": [
    "# Lists can be changed \n",
    "print(days)\n",
    "days[6] = \"Zzzzzz...\"\n",
    "print(days)"
   ]
  },
  {
   "cell_type": "code",
   "execution_count": 19,
   "metadata": {},
   "outputs": [],
   "source": [
    "# We can create empty lists\n",
    "empty_list = []"
   ]
  },
  {
   "cell_type": "code",
   "execution_count": 20,
   "metadata": {},
   "outputs": [],
   "source": [
    "# Finally, you can add things into a list with .append()\n",
    "empty_list.append(0)"
   ]
  },
  {
   "cell_type": "code",
   "execution_count": 21,
   "metadata": {},
   "outputs": [
    {
     "name": "stdout",
     "output_type": "stream",
     "text": [
      "[0]\n"
     ]
    }
   ],
   "source": [
    "print(empty_list)"
   ]
  },
  {
   "cell_type": "code",
   "execution_count": 22,
   "metadata": {},
   "outputs": [],
   "source": [
    "empty_list.append(0)"
   ]
  },
  {
   "cell_type": "code",
   "execution_count": 23,
   "metadata": {},
   "outputs": [
    {
     "name": "stdout",
     "output_type": "stream",
     "text": [
      "[0, 0]\n"
     ]
    }
   ],
   "source": [
    "print(empty_list)"
   ]
  },
  {
   "cell_type": "code",
   "execution_count": 24,
   "metadata": {},
   "outputs": [],
   "source": [
    "empty_list.append(7)"
   ]
  },
  {
   "cell_type": "code",
   "execution_count": 25,
   "metadata": {},
   "outputs": [
    {
     "name": "stdout",
     "output_type": "stream",
     "text": [
      "[0, 0, 7]\n"
     ]
    }
   ],
   "source": [
    "print(empty_list)"
   ]
  },
  {
   "cell_type": "markdown",
   "metadata": {},
   "source": [
    "---"
   ]
  },
  {
   "cell_type": "markdown",
   "metadata": {},
   "source": [
    "<div class=\"alert alert-block alert-info\" style=\"background-color: #BA001E; border: 0px; -moz-border-radius: 10px; -webkit-border-radius: 10px;\">\n",
    "<h2 style=\"color: white\">\n",
    "Dictionaries\n",
    "</h2><br>\n",
    "</div>\n",
    "\n",
    "It doesn't make sense to store everything in order. Sometimes we need to give names to things.\n",
    "\n",
    "For example, we don't reference our children as \"child 0\" and \"child 1\". We give them names. Python dictionaries work in a similar way, we give pieces of information a name. We call this name the \"**key**\" and the piece of information it unlocks the \"**value**\"."
   ]
  },
  {
   "cell_type": "markdown",
   "metadata": {},
   "source": [
    "<div class=\"alert alert-block alert-info\">\n",
    "    <b>💡 Tip:</b> Notice how we use <strong>curly brackets</strong> to create a new dictionary. Python uses different brackets for different purposes!\n",
    "<br/>\n",
    "\n",
    "<strong>Round brackets <code>()</code></strong> are used for:\n",
    "<ul>\n",
    "    <li>Mathematical expressions, for example <code>(1 + 3) * 5</code>.</li>\n",
    "    <li>Functions, for example <code>print(\"Hello world!\")</code>.</li>\n",
    "    <li>Methods (we will see these in the next module), for example <code>df.head()</code> shows the top 5 rows of a pandas DataFrame; and <code>\"Hello world\".upper()</code> makes a string upper case.\n",
    "</ul>\n",
    "<br/>\n",
    "\n",
    "<strong>Square brackets <code>[]</code></strong> are used for:</li>\n",
    "<ul>\n",
    "    <li>Lists, for example <code>[1, 2, 3]</code>.</li>\n",
    "    <li>\"Getting things\", for example we can get the item at position 0 in a list using <code>list_name[0]</code>. Just below, you can see we also use square brackets to get the value associated with the \"name\" key in a dictionary, using <code>organisation['name']</code>.</li>\n",
    "</ul>\n",
    "<br/>\n",
    "\n",
    "<strong>Curly brackets <code>{}</code></strong> are used for:</li>\n",
    "<ul>\n",
    "    <li>Creating dictionaries, for example <code>{\"key\": \"value\"}</code>.</li>\n",
    "    <li>Creating \"sets\" (sets are like unordered lists containing only unique elements), for example running the code <code>{\"dog\", \"dog\", \"cat\"}</code> will return a set of unique elements only, i.e. <code>{\"dog\", \"cat\"}</code>.</li>\n",
    "</ul>\n",
    "\n",
    "\n",
    "\n",
    "</div>"
   ]
  },
  {
   "cell_type": "code",
   "execution_count": 26,
   "metadata": {},
   "outputs": [],
   "source": [
    "organisation = {\n",
    "    \"name\": \"ACCA\",\n",
    "    \"founded\": 1904\n",
    "}"
   ]
  },
  {
   "cell_type": "markdown",
   "metadata": {},
   "source": [
    "This dictionary has two keys. Each key in a dictionary has one value. Once created, we can access the values using square brackets. (N.B. dictionaries are created with curly brackets)"
   ]
  },
  {
   "cell_type": "code",
   "execution_count": 27,
   "metadata": {},
   "outputs": [
    {
     "name": "stdout",
     "output_type": "stream",
     "text": [
      "{'name': 'ACCA', 'founded': 1904}\n"
     ]
    }
   ],
   "source": [
    "print(organisation)"
   ]
  },
  {
   "cell_type": "code",
   "execution_count": 28,
   "metadata": {},
   "outputs": [
    {
     "data": {
      "text/plain": [
       "'ACCA'"
      ]
     },
     "execution_count": 28,
     "metadata": {},
     "output_type": "execute_result"
    }
   ],
   "source": [
    "organisation['name']"
   ]
  },
  {
   "cell_type": "code",
   "execution_count": 29,
   "metadata": {},
   "outputs": [
    {
     "data": {
      "text/plain": [
       "1904"
      ]
     },
     "execution_count": 29,
     "metadata": {},
     "output_type": "execute_result"
    }
   ],
   "source": [
    "organisation['founded']"
   ]
  },
  {
   "cell_type": "code",
   "execution_count": 30,
   "metadata": {},
   "outputs": [
    {
     "data": {
      "text/plain": [
       "117"
      ]
     },
     "execution_count": 30,
     "metadata": {},
     "output_type": "execute_result"
    }
   ],
   "source": [
    "# How many years ago was this (at the time of writing)?\n",
    "2021 - organisation['founded']"
   ]
  },
  {
   "cell_type": "markdown",
   "metadata": {},
   "source": [
    "We can put a new \"key-value pair\" into a dictionary as follows. The key is \"countries\" and the value is the integer 179."
   ]
  },
  {
   "cell_type": "code",
   "execution_count": 31,
   "metadata": {},
   "outputs": [],
   "source": [
    "organisation['countries'] = 179"
   ]
  },
  {
   "cell_type": "code",
   "execution_count": 32,
   "metadata": {},
   "outputs": [
    {
     "data": {
      "text/plain": [
       "179"
      ]
     },
     "execution_count": 32,
     "metadata": {},
     "output_type": "execute_result"
    }
   ],
   "source": [
    "organisation['countries']"
   ]
  },
  {
   "cell_type": "code",
   "execution_count": 33,
   "metadata": {},
   "outputs": [
    {
     "data": {
      "text/plain": [
       "{'name': 'ACCA', 'founded': 1904, 'countries': 179}"
      ]
     },
     "execution_count": 33,
     "metadata": {},
     "output_type": "execute_result"
    }
   ],
   "source": [
    "organisation"
   ]
  },
  {
   "cell_type": "markdown",
   "metadata": {},
   "source": [
    "---"
   ]
  },
  {
   "cell_type": "markdown",
   "metadata": {},
   "source": [
    "> ### 🚩 Exercises\n",
    "> \n",
    "> 1. Add a new key-value pair with key `\"headquarters\"` and value `\"London\"`.\n",
    "> 2. Print the value associated with the key `\"headquarters\"`.\n",
    "> 3. Add a new key-value pair with key `\"numbers\"` and value is the list `[1, 2, 3]`.\n",
    "> 4. You should be able to \"chain\" a dictionary _and_ a list lookup: `organisation[\"numbers\"][2]`\n",
    "> 5. You should also be able to append to this list inside the dictionary: `organisation[\"numbers\"].append(99)`.\n",
    "\n",
    "Note: keys are (usually) strings, but values can be anything (including other dictionaries!)."
   ]
  },
  {
   "cell_type": "code",
   "execution_count": 34,
   "metadata": {},
   "outputs": [],
   "source": [
    "# 1. Add a new key-value pair with key \"headquarters\" and value \"London\".\n",
    "\n",
    "# ✏️ ENTER YOUR SOLUTION HERE\n",
    "\n",
    "organisation['headquaters'] = \"London\""
   ]
  },
  {
   "cell_type": "code",
   "execution_count": 35,
   "metadata": {},
   "outputs": [
    {
     "data": {
      "text/plain": [
       "'London'"
      ]
     },
     "execution_count": 35,
     "metadata": {},
     "output_type": "execute_result"
    }
   ],
   "source": [
    "# 2. Print the value associated with the key \"headquarters\".\n",
    "\n",
    "# ✏️ ENTER YOUR SOLUTION HERE\n",
    "\n",
    "organisation['headquaters']"
   ]
  },
  {
   "cell_type": "code",
   "execution_count": 41,
   "metadata": {},
   "outputs": [],
   "source": [
    "# 3. Add a new key-value pair with key `\"numbers\"` and value is the list `[1, 2, 3]`.\n",
    "\n",
    "# ✏️ ENTER YOUR SOLUTION HERE\n",
    "\n",
    "organisation['numbers'] = [1,2,3]"
   ]
  },
  {
   "cell_type": "code",
   "execution_count": 42,
   "metadata": {},
   "outputs": [
    {
     "data": {
      "text/plain": [
       "3"
      ]
     },
     "execution_count": 42,
     "metadata": {},
     "output_type": "execute_result"
    }
   ],
   "source": [
    "# 4. You should be able to \"chain\" a dictionary _and_ a list lookup: `organisation[\"numbers\"][2]`\n",
    "\n",
    "# ✏️ ENTER YOUR SOLUTION HERE\n",
    "\n",
    "organisation[\"numbers\"][2]"
   ]
  },
  {
   "cell_type": "code",
   "execution_count": 43,
   "metadata": {},
   "outputs": [],
   "source": [
    "# 5. You should also be able to append to this list inside the dictionary: `organisation[\"numbers\"].append(99)`.\n",
    "\n",
    "# ✏️ ENTER YOUR SOLUTION HERE\n",
    "\n",
    "organisation[\"numbers\"].append(99)"
   ]
  },
  {
   "cell_type": "markdown",
   "metadata": {},
   "source": [
    "---\n",
    "---"
   ]
  }
 ],
 "metadata": {
  "kernelspec": {
   "display_name": "Python 3",
   "language": "python",
   "name": "python3"
  },
  "language_info": {
   "codemirror_mode": {
    "name": "ipython",
    "version": 3
   },
   "file_extension": ".py",
   "mimetype": "text/x-python",
   "name": "python",
   "nbconvert_exporter": "python",
   "pygments_lexer": "ipython3",
   "version": "3.8.8"
  },
  "toc": {
   "base_numbering": 1,
   "nav_menu": {},
   "number_sections": true,
   "sideBar": true,
   "skip_h1_title": false,
   "title_cell": "Table of Contents",
   "title_sidebar": "Contents",
   "toc_cell": false,
   "toc_position": {},
   "toc_section_display": true,
   "toc_window_display": false
  }
 },
 "nbformat": 4,
 "nbformat_minor": 4
}
