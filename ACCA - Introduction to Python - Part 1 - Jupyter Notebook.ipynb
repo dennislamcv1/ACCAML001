{
 "cells": [
  {
   "cell_type": "markdown",
   "metadata": {},
   "source": [
    "<img src=\"https://courses.edx.org/asset-v1:ACCA+ML001+2T2021+type@asset+block@acca-logo.jpg\" alt=\"ACCA logo\" style=\"width: 400px;\"/>\n",
    "\n",
    "# Introduction to Python\n",
    "## Part 1 - Jupyter Notebook\n",
    "\n",
    "* **Course:** __Machine learning with Python for finance professionals__ by ACCA\n",
    "* **Instructor:** [Coefficient](https://coefficient.ai) / [@CoefficientData](https://twitter.com/CoefficientData)\n",
    "\n",
    "---"
   ]
  },
  {
   "cell_type": "markdown",
   "metadata": {},
   "source": [
    "Congratulations on successfully opening your first Jupyter Notebook! This environment combines formatted text with interactive cells which can run Python code and display output.\n",
    "\n",
    "---\n",
    "\n",
    "> ### 🚩 Exercise: User interface tour\n",
    "> \n",
    "> Take your first steps exploring the interface by selecting **`Help > User Interface Tour`**.\n",
    "\n",
    "<div class=\"alert alert-block alert-info\">\n",
    "    <b>💡 Tip:</b> If you don't see <strong>User Interface Tour</strong> under the <strong>Help</strong> menu, ensure that you are running <a href=\"https://jupyter.org/\">Jupyter Notebook and not Jupyter Lab</a>.\n",
    "</div>"
   ]
  },
  {
   "cell_type": "markdown",
   "metadata": {},
   "source": [
    "---\n",
    "\n",
    "<div class=\"alert alert-block alert-info\" style=\"background-color: #BA001E; border: 0px; -moz-border-radius: 10px; -webkit-border-radius: 10px;\">\n",
    "<h2 style=\"color: white\">\n",
    "Selecting & running cells\n",
    "</h2><br>\n",
    "</div>\n",
    "\n",
    "Let's try running a cell with some code in. Below this text is a light grey horizontal line, and below that line is a Jupyter Notebook cell. When you click into it, a green box will appear to highlight that you are now in \"Edit Mode\".\n",
    " \n",
    "It should look something like this (N.B. this is a screenshot image of the cell in Edit Mode, the actual cell is below the grey horizontal line below).\n",
    " \n",
    "![](../../../assets/images/jupyter-edit-mode.png)\n",
    " \n",
    "If you click the area to the left of the cell that says `In [ ]:` then the cell will be surrounded by a blue box to highlight that you are now in \"Command Mode\".\n",
    " \n",
    "![](../../../assets/images/jupyter-command-mode.png)\n",
    " \n",
    "Jupyter is full of great keyboard shortcuts. Here's a couple for you now:\n",
    " \n",
    "| Shortcut | Description |\n",
    "| -- | -- |\n",
    "| `Enter/Return` | Go into \"Edit Mode\" when a cell is selected |\n",
    "| `Escape` | Go into \"Command Mode\" when you are currently in Edit Mode |\n",
    "\n",
    "Finally, when a cell is selected, you can run the cell by either:\n",
    "1. Click the ▶️ **Run** button in the toolbar (usually this is below the **`Cell`** menu).\n",
    "2. From the **`Cell`** menu click **`Run Cells`**.\n",
    "3. Use the keyboard shortcut: `shift + enter` to run a cell and move onto the next one.\n",
    "\n",
    "> ### 🚩 Exercise: Run your first cell\n",
    "> 1. Select the cell below that says `print(\"Hello World!\")`. Note the green box indicating Edit Mode.\n",
    "> 2. Select the `In [ ]:` to make the box go blue.\n",
    "> 3. Use the `enter` key to go back into Edit Mode.\n",
    "> 4. Use the `escape` key to go back into Command Mode.\n",
    "> 5. Run the cell from the **Run** button in the toolbar. It should print `\"Hello World!\"` just below.\n",
    "> 6. Run the cell from **`Cell > Run Cells`**.\n",
    "> 7. Run the cell using the `shift + enter` keyboard shortcut."
   ]
  },
  {
   "cell_type": "markdown",
   "metadata": {},
   "source": [
    "---"
   ]
  },
  {
   "cell_type": "code",
   "execution_count": 1,
   "metadata": {},
   "outputs": [
    {
     "name": "stdout",
     "output_type": "stream",
     "text": [
      "Hello World!\n"
     ]
    }
   ],
   "source": [
    "print(\"Hello World!\")"
   ]
  },
  {
   "cell_type": "code",
   "execution_count": 2,
   "metadata": {},
   "outputs": [
    {
     "name": "stdout",
     "output_type": "stream",
     "text": [
      "Hello me!\n"
     ]
    }
   ],
   "source": [
    "print(\"Hello me!\")"
   ]
  },
  {
   "cell_type": "markdown",
   "metadata": {},
   "source": [
    "---\n",
    "\n",
    "<div class=\"alert alert-block alert-warning\">\n",
    "<b><i class=\"fa fa-check-square\" aria-hidden=\"true\"></i>&nbsp; Check</b><br>\n",
    "Do not type when you are in command mode. It's very easy to accidentally trigger keyboard shortcuts for copy/paste or deleting cells! Always ensure you are in edit mode before typing.\n",
    "</div>\n",
    "\n",
    "---"
   ]
  },
  {
   "cell_type": "markdown",
   "metadata": {},
   "source": [
    "<div class=\"alert alert-block alert-info\" style=\"background-color: #BA001E; border: 0px; -moz-border-radius: 10px; -webkit-border-radius: 10px;\">\n",
    "<h2 style=\"color: white\">\n",
    "Adding new cells\n",
    "</h2><br>\n",
    "</div>\n",
    "\n",
    "You can add cells by:\n",
    "1. Clicking the ➕ button in the toolbar.\n",
    "2. Using **`Insert > Insert Cell Above`** or **`Insert > Insert Cell Below`**.\n",
    "3. Using the shortcuts `a` (for above) and `b` (for below). Note how the shortcuts are displayed in the menu navigation as a convenient reminder.\n",
    "\n",
    "> ### 🚩 Exercise: Add a cell\n",
    "> 1. Add a cell below `print(\"Hello World!\")` and type `print(\"Hello me!\")`.\n",
    "> 2. Replace the word `me` with your name, so the cell instead greets you by your name."
   ]
  },
  {
   "cell_type": "markdown",
   "metadata": {},
   "source": [
    "---"
   ]
  },
  {
   "cell_type": "markdown",
   "metadata": {},
   "source": [
    "<div class=\"alert alert-block alert-info\" style=\"background-color: #BA001E; border: 0px; -moz-border-radius: 10px; -webkit-border-radius: 10px;\">\n",
    "<h2 style=\"color: white\">\n",
    "Other functionality\n",
    "</h2><br>\n",
    "</div>\n",
    "\n",
    "The `Edit` menu has a lot of functionality:\n",
    "- **Cut/Copy/Paste** is available from the `Edit` menu, or the toolbar icons, or the shortcuts `x`, `c` and `v`. N.B. these are single letter shortcuts, you do not need to use control/command keys. Simply select a cell in Command Mode, type _just_ `c` and then `v` to paste.\n",
    "- **Delete** a cell from the `Edit` menu, or by typing `D` then `D` again.\n",
    "- **Undo** with `z`.\n",
    "- Cells can also be **split**, **merged** and moved around using the ⬆ and ⬇ buttons in the toolbar.\n",
    "\n",
    "There is a full list of **keyboard shortcuts** under the **`Help > Keyboard Shortcuts`** (or just press `h`)."
   ]
  },
  {
   "cell_type": "markdown",
   "metadata": {},
   "source": [
    "---"
   ]
  },
  {
   "cell_type": "markdown",
   "metadata": {},
   "source": [
    "<div class=\"alert alert-block alert-info\" style=\"background-color: #BA001E; border: 0px; -moz-border-radius: 10px; -webkit-border-radius: 10px;\">\n",
    "<h2 style=\"color: white\">\n",
    "Markdown cells\n",
    "</h2><br>\n",
    "</div>\n",
    "\n",
    "These can be used to add narrative to your notebooks. This is especially useful for providing context, discussion and references alongside a technical analysis. The Jupyter Notebook can be a single document containing code, analysis, modelling, charts as well as exposition and summary.\n",
    "\n",
    "Most of the cells in this notebook are written in markdown - just double click any text in this document to see the markdown that lies beneath. **You can format a markdown cell by running it.**\n",
    "\n",
    "Markdown is used extensively in many web applications including tools like Slack, Microsoft Teams and WhatsApp. GitHub has a [great guide to the full power of markdown](https://docs.github.com/en/github/writing-on-github/getting-started-with-writing-and-formatting-on-github), but we've put some of our favourites in the cell below. Feel free to edit it, or try out some of the markdown features mentioned in the GitHub article above.\n",
    "\n",
    "---"
   ]
  },
  {
   "cell_type": "markdown",
   "metadata": {},
   "source": [
    "# One # gives a large heading\n",
    "## Two ## gives a subheading\n",
    "### Three ### gives a smaller subheading\n",
    "\n",
    "This is a paragraph of text with _italics_ and **bold**. It also has a [link to ACCA](https://www.accaglobal.com/).\n",
    "\n",
    "You can include\n",
    "- bulleted\n",
    "- lists\n",
    "\n",
    "...tables...\n",
    "\n",
    "| Column | Column |\n",
    "| -- | -- |\n",
    "| value | value |\n",
    "\n",
    "...code blocks...\n",
    "\n",
    "```python\n",
    "print(\"Hello World!\")\n",
    "```\n",
    "\n",
    "...horizontal lines...\n",
    "\n",
    "---\n",
    "\n",
    "\n",
    "...and images!\n",
    "\n",
    "![](../../../assets/images/jupyter-shortcuts.png)"
   ]
  },
  {
   "cell_type": "markdown",
   "metadata": {},
   "source": [
    "---\n",
    "---"
   ]
  }
 ],
 "metadata": {
  "kernelspec": {
   "display_name": "Python 3",
   "language": "python",
   "name": "python3"
  },
  "language_info": {
   "codemirror_mode": {
    "name": "ipython",
    "version": 3
   },
   "file_extension": ".py",
   "mimetype": "text/x-python",
   "name": "python",
   "nbconvert_exporter": "python",
   "pygments_lexer": "ipython3",
   "version": "3.8.8"
  },
  "toc": {
   "base_numbering": 1,
   "nav_menu": {},
   "number_sections": true,
   "sideBar": true,
   "skip_h1_title": false,
   "title_cell": "Table of Contents",
   "title_sidebar": "Contents",
   "toc_cell": false,
   "toc_position": {},
   "toc_section_display": true,
   "toc_window_display": false
  }
 },
 "nbformat": 4,
 "nbformat_minor": 4
}
